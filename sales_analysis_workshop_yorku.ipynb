{
  "cells": [
    {
      "cell_type": "markdown",
      "metadata": {
        "id": "view-in-github",
        "colab_type": "text"
      },
      "source": [
        "<a href=\"https://colab.research.google.com/github/Aritro30/sales_analysis_workshop_yorku/blob/main/sales_analysis_workshop_yorku.ipynb\" target=\"_parent\"><img src=\"https://colab.research.google.com/assets/colab-badge.svg\" alt=\"Open In Colab\"/></a>"
      ]
    },
    {
      "cell_type": "markdown",
      "source": [
        "### Introduction:\n",
        "\n",
        "You are working as a Data Analyst/Scientist in an organization. Your supervisor wants you to have a look at the commercial data for this year & to present your findings."
      ],
      "metadata": {
        "id": "3bTR_Z-rs8Ms"
      },
      "id": "3bTR_Z-rs8Ms"
    },
    {
      "cell_type": "markdown",
      "source": [
        "Importance of Data Visualization and Analysis:\n",
        "\n",
        "1. Identifying patterns and trends in data.\n",
        "2. Communicating insights clearly and concisely.\n",
        "3. Managing risks and making accurate risk assessments.\n",
        "4. Supporting evidence-based decision making.\n",
        "\n",
        "Introduction to Python as a Powerful Tool:\n",
        "1. Python is a powerful tool for data manipulation, analysis, and visualization.\n",
        "2. It provides libraries like Pandas for efficient data manipulation.\n",
        "Libraries like NumPy and SciPy offer mathematical and statistical analysis capabilities.\n",
        "3. Matplotlib and Seaborn enable the creation of various visualizations.\n",
        "4. Python integrates well with other technologies and can handle large datasets."
      ],
      "metadata": {
        "id": "I5O6fdN-tcDZ"
      },
      "id": "I5O6fdN-tcDZ"
    },
    {
      "cell_type": "markdown",
      "source": [
        "### Prerequisites:\n",
        "\n",
        "1. Basic knowledge in Python"
      ],
      "metadata": {
        "id": "GDba29wy-3Uo"
      },
      "id": "GDba29wy-3Uo"
    },
    {
      "cell_type": "markdown",
      "source": [
        "### Learning Outcomes:\n",
        "\n",
        "1. Data manipulation and analysis using Pandas.\n",
        "2. Data visualization using Matplotlib."
      ],
      "metadata": {
        "id": "qc9v7Z249iYA"
      },
      "id": "qc9v7Z249iYA"
    },
    {
      "cell_type": "markdown",
      "id": "93c54cd6",
      "metadata": {
        "papermill": {
          "duration": 0.010604,
          "end_time": "2022-07-09T05:18:53.219913",
          "exception": false,
          "start_time": "2022-07-09T05:18:53.209309",
          "status": "completed"
        },
        "tags": [],
        "id": "93c54cd6"
      },
      "source": [
        "### Importing Libraries"
      ]
    },
    {
      "cell_type": "code",
      "execution_count": null,
      "id": "3d3a8dd6",
      "metadata": {
        "execution": {
          "iopub.execute_input": "2022-07-09T05:18:53.243571Z",
          "iopub.status.busy": "2022-07-09T05:18:53.243248Z",
          "iopub.status.idle": "2022-07-09T05:18:53.251564Z",
          "shell.execute_reply": "2022-07-09T05:18:53.250996Z"
        },
        "papermill": {
          "duration": 0.022236,
          "end_time": "2022-07-09T05:18:53.253639",
          "exception": false,
          "start_time": "2022-07-09T05:18:53.231403",
          "status": "completed"
        },
        "tags": [],
        "id": "3d3a8dd6"
      },
      "outputs": [],
      "source": [
        "import pandas as pd\n",
        "import os\n",
        "import matplotlib.pyplot as plt"
      ]
    },
    {
      "cell_type": "markdown",
      "id": "1628c581",
      "metadata": {
        "papermill": {
          "duration": 0.010197,
          "end_time": "2022-07-09T05:18:53.274368",
          "exception": false,
          "start_time": "2022-07-09T05:18:53.264171",
          "status": "completed"
        },
        "tags": [],
        "id": "1628c581"
      },
      "source": [
        "### Merging 12 month of sales data into a single file"
      ]
    },
    {
      "cell_type": "code",
      "execution_count": null,
      "id": "c3de7b97",
      "metadata": {
        "execution": {
          "iopub.execute_input": "2022-07-09T05:18:53.297391Z",
          "iopub.status.busy": "2022-07-09T05:18:53.296706Z",
          "iopub.status.idle": "2022-07-09T05:18:53.314704Z",
          "shell.execute_reply": "2022-07-09T05:18:53.314160Z"
        },
        "papermill": {
          "duration": 0.032032,
          "end_time": "2022-07-09T05:18:53.316896",
          "exception": false,
          "start_time": "2022-07-09T05:18:53.284864",
          "status": "completed"
        },
        "tags": [],
        "colab": {
          "base_uri": "https://localhost:8080/"
        },
        "id": "c3de7b97",
        "outputId": "9c88dfae-b656-42c3-a780-a906c66d9646"
      },
      "outputs": [
        {
          "output_type": "execute_result",
          "data": {
            "text/plain": [
              "['Sales_February_2019.csv',\n",
              " 'Sales_June_2019.csv',\n",
              " 'Sales_August_2019.csv',\n",
              " 'Sales_November_2019.csv',\n",
              " 'Sales_September_2019.csv',\n",
              " 'Sales_July_2019.csv',\n",
              " 'Sales_October_2019.csv',\n",
              " 'Sales_March_2019.csv',\n",
              " 'Sales_April_2019.csv',\n",
              " 'Sales_December_2019.csv',\n",
              " 'Sales_May_2019.csv',\n",
              " 'Sales_January_2019.csv']"
            ]
          },
          "metadata": {},
          "execution_count": 117
        }
      ],
      "source": [
        "#Create a list of all files in current directory\n",
        "all_files = os.listdir('input_data/')\n",
        "# Create an empty list to assign csv files\n",
        "csv_files = []\n",
        "\n",
        "# Create a lis of only the csv files in current directory\n",
        "for file in all_files:\n",
        "    if file[-3:] == 'csv':\n",
        "        csv_files.append(file)\n",
        "    else:\n",
        "        pass\n",
        "csv_files"
      ]
    },
    {
      "cell_type": "code",
      "execution_count": null,
      "id": "9ee8e073",
      "metadata": {
        "execution": {
          "iopub.execute_input": "2022-07-09T05:18:53.341905Z",
          "iopub.status.busy": "2022-07-09T05:18:53.341267Z",
          "iopub.status.idle": "2022-07-09T05:18:53.977534Z",
          "shell.execute_reply": "2022-07-09T05:18:53.976459Z"
        },
        "papermill": {
          "duration": 0.652742,
          "end_time": "2022-07-09T05:18:53.980428",
          "exception": false,
          "start_time": "2022-07-09T05:18:53.327686",
          "status": "completed"
        },
        "tags": [],
        "id": "9ee8e073"
      },
      "outputs": [],
      "source": [
        "all_data = pd.concat((pd.read_csv(\"input_data/\"+f) for f in csv_files))"
      ]
    },
    {
      "cell_type": "code",
      "source": [
        "all_data.head()"
      ],
      "metadata": {
        "colab": {
          "base_uri": "https://localhost:8080/",
          "height": 206
        },
        "id": "c1H8UzjdFKLI",
        "outputId": "8d2c0395-9acc-45ea-cbaf-2f8743f725ac"
      },
      "id": "c1H8UzjdFKLI",
      "execution_count": null,
      "outputs": [
        {
          "output_type": "execute_result",
          "data": {
            "text/plain": [
              "  Order ID                   Product Quantity Ordered Price Each  \\\n",
              "0   150502                    iPhone                1        700   \n",
              "1   150503     AA Batteries (4-pack)                1       3.84   \n",
              "2   150504    27in 4K Gaming Monitor                1     389.99   \n",
              "3   150505  Lightning Charging Cable                1      14.95   \n",
              "4   150506     AA Batteries (4-pack)                2       3.84   \n",
              "\n",
              "       Order Date                     Purchase Address  \n",
              "0  02/18/19 01:35    866 Spruce St, Portland, ME 04101  \n",
              "1  02/13/19 07:24  18 13th St, San Francisco, CA 94016  \n",
              "2  02/18/19 09:46   52 6th St, New York City, NY 10001  \n",
              "3  02/02/19 16:47     129 Cherry St, Atlanta, GA 30301  \n",
              "4  02/28/19 20:32    548 Lincoln St, Seattle, WA 98101  "
            ],
            "text/html": [
              "\n",
              "  <div id=\"df-f43e85f1-9bab-4477-b694-923284d872a6\">\n",
              "    <div class=\"colab-df-container\">\n",
              "      <div>\n",
              "<style scoped>\n",
              "    .dataframe tbody tr th:only-of-type {\n",
              "        vertical-align: middle;\n",
              "    }\n",
              "\n",
              "    .dataframe tbody tr th {\n",
              "        vertical-align: top;\n",
              "    }\n",
              "\n",
              "    .dataframe thead th {\n",
              "        text-align: right;\n",
              "    }\n",
              "</style>\n",
              "<table border=\"1\" class=\"dataframe\">\n",
              "  <thead>\n",
              "    <tr style=\"text-align: right;\">\n",
              "      <th></th>\n",
              "      <th>Order ID</th>\n",
              "      <th>Product</th>\n",
              "      <th>Quantity Ordered</th>\n",
              "      <th>Price Each</th>\n",
              "      <th>Order Date</th>\n",
              "      <th>Purchase Address</th>\n",
              "    </tr>\n",
              "  </thead>\n",
              "  <tbody>\n",
              "    <tr>\n",
              "      <th>0</th>\n",
              "      <td>150502</td>\n",
              "      <td>iPhone</td>\n",
              "      <td>1</td>\n",
              "      <td>700</td>\n",
              "      <td>02/18/19 01:35</td>\n",
              "      <td>866 Spruce St, Portland, ME 04101</td>\n",
              "    </tr>\n",
              "    <tr>\n",
              "      <th>1</th>\n",
              "      <td>150503</td>\n",
              "      <td>AA Batteries (4-pack)</td>\n",
              "      <td>1</td>\n",
              "      <td>3.84</td>\n",
              "      <td>02/13/19 07:24</td>\n",
              "      <td>18 13th St, San Francisco, CA 94016</td>\n",
              "    </tr>\n",
              "    <tr>\n",
              "      <th>2</th>\n",
              "      <td>150504</td>\n",
              "      <td>27in 4K Gaming Monitor</td>\n",
              "      <td>1</td>\n",
              "      <td>389.99</td>\n",
              "      <td>02/18/19 09:46</td>\n",
              "      <td>52 6th St, New York City, NY 10001</td>\n",
              "    </tr>\n",
              "    <tr>\n",
              "      <th>3</th>\n",
              "      <td>150505</td>\n",
              "      <td>Lightning Charging Cable</td>\n",
              "      <td>1</td>\n",
              "      <td>14.95</td>\n",
              "      <td>02/02/19 16:47</td>\n",
              "      <td>129 Cherry St, Atlanta, GA 30301</td>\n",
              "    </tr>\n",
              "    <tr>\n",
              "      <th>4</th>\n",
              "      <td>150506</td>\n",
              "      <td>AA Batteries (4-pack)</td>\n",
              "      <td>2</td>\n",
              "      <td>3.84</td>\n",
              "      <td>02/28/19 20:32</td>\n",
              "      <td>548 Lincoln St, Seattle, WA 98101</td>\n",
              "    </tr>\n",
              "  </tbody>\n",
              "</table>\n",
              "</div>\n",
              "      <button class=\"colab-df-convert\" onclick=\"convertToInteractive('df-f43e85f1-9bab-4477-b694-923284d872a6')\"\n",
              "              title=\"Convert this dataframe to an interactive table.\"\n",
              "              style=\"display:none;\">\n",
              "        \n",
              "  <svg xmlns=\"http://www.w3.org/2000/svg\" height=\"24px\"viewBox=\"0 0 24 24\"\n",
              "       width=\"24px\">\n",
              "    <path d=\"M0 0h24v24H0V0z\" fill=\"none\"/>\n",
              "    <path d=\"M18.56 5.44l.94 2.06.94-2.06 2.06-.94-2.06-.94-.94-2.06-.94 2.06-2.06.94zm-11 1L8.5 8.5l.94-2.06 2.06-.94-2.06-.94L8.5 2.5l-.94 2.06-2.06.94zm10 10l.94 2.06.94-2.06 2.06-.94-2.06-.94-.94-2.06-.94 2.06-2.06.94z\"/><path d=\"M17.41 7.96l-1.37-1.37c-.4-.4-.92-.59-1.43-.59-.52 0-1.04.2-1.43.59L10.3 9.45l-7.72 7.72c-.78.78-.78 2.05 0 2.83L4 21.41c.39.39.9.59 1.41.59.51 0 1.02-.2 1.41-.59l7.78-7.78 2.81-2.81c.8-.78.8-2.07 0-2.86zM5.41 20L4 18.59l7.72-7.72 1.47 1.35L5.41 20z\"/>\n",
              "  </svg>\n",
              "      </button>\n",
              "      \n",
              "  <style>\n",
              "    .colab-df-container {\n",
              "      display:flex;\n",
              "      flex-wrap:wrap;\n",
              "      gap: 12px;\n",
              "    }\n",
              "\n",
              "    .colab-df-convert {\n",
              "      background-color: #E8F0FE;\n",
              "      border: none;\n",
              "      border-radius: 50%;\n",
              "      cursor: pointer;\n",
              "      display: none;\n",
              "      fill: #1967D2;\n",
              "      height: 32px;\n",
              "      padding: 0 0 0 0;\n",
              "      width: 32px;\n",
              "    }\n",
              "\n",
              "    .colab-df-convert:hover {\n",
              "      background-color: #E2EBFA;\n",
              "      box-shadow: 0px 1px 2px rgba(60, 64, 67, 0.3), 0px 1px 3px 1px rgba(60, 64, 67, 0.15);\n",
              "      fill: #174EA6;\n",
              "    }\n",
              "\n",
              "    [theme=dark] .colab-df-convert {\n",
              "      background-color: #3B4455;\n",
              "      fill: #D2E3FC;\n",
              "    }\n",
              "\n",
              "    [theme=dark] .colab-df-convert:hover {\n",
              "      background-color: #434B5C;\n",
              "      box-shadow: 0px 1px 3px 1px rgba(0, 0, 0, 0.15);\n",
              "      filter: drop-shadow(0px 1px 2px rgba(0, 0, 0, 0.3));\n",
              "      fill: #FFFFFF;\n",
              "    }\n",
              "  </style>\n",
              "\n",
              "      <script>\n",
              "        const buttonEl =\n",
              "          document.querySelector('#df-f43e85f1-9bab-4477-b694-923284d872a6 button.colab-df-convert');\n",
              "        buttonEl.style.display =\n",
              "          google.colab.kernel.accessAllowed ? 'block' : 'none';\n",
              "\n",
              "        async function convertToInteractive(key) {\n",
              "          const element = document.querySelector('#df-f43e85f1-9bab-4477-b694-923284d872a6');\n",
              "          const dataTable =\n",
              "            await google.colab.kernel.invokeFunction('convertToInteractive',\n",
              "                                                     [key], {});\n",
              "          if (!dataTable) return;\n",
              "\n",
              "          const docLinkHtml = 'Like what you see? Visit the ' +\n",
              "            '<a target=\"_blank\" href=https://colab.research.google.com/notebooks/data_table.ipynb>data table notebook</a>'\n",
              "            + ' to learn more about interactive tables.';\n",
              "          element.innerHTML = '';\n",
              "          dataTable['output_type'] = 'display_data';\n",
              "          await google.colab.output.renderOutput(dataTable, element);\n",
              "          const docLink = document.createElement('div');\n",
              "          docLink.innerHTML = docLinkHtml;\n",
              "          element.appendChild(docLink);\n",
              "        }\n",
              "      </script>\n",
              "    </div>\n",
              "  </div>\n",
              "  "
            ]
          },
          "metadata": {},
          "execution_count": 119
        }
      ]
    },
    {
      "cell_type": "markdown",
      "source": [
        "### Basic Information\n",
        "\n"
      ],
      "metadata": {
        "id": "nk_WjlKZJU-U"
      },
      "id": "nk_WjlKZJU-U"
    },
    {
      "cell_type": "code",
      "source": [
        "all_data.shape"
      ],
      "metadata": {
        "colab": {
          "base_uri": "https://localhost:8080/"
        },
        "id": "VJS24mOjGodc",
        "outputId": "69ebe65d-ff4f-4051-d428-5c439919ed2c"
      },
      "id": "VJS24mOjGodc",
      "execution_count": null,
      "outputs": [
        {
          "output_type": "execute_result",
          "data": {
            "text/plain": [
              "(186850, 6)"
            ]
          },
          "metadata": {},
          "execution_count": 120
        }
      ]
    },
    {
      "cell_type": "code",
      "source": [
        "# Basic Info about DataFrame\n",
        "all_data.info()"
      ],
      "metadata": {
        "colab": {
          "base_uri": "https://localhost:8080/"
        },
        "id": "aZMYoF7EF0DH",
        "outputId": "30442e5f-68dc-4d4e-931a-40748b558015"
      },
      "id": "aZMYoF7EF0DH",
      "execution_count": null,
      "outputs": [
        {
          "output_type": "stream",
          "name": "stdout",
          "text": [
            "<class 'pandas.core.frame.DataFrame'>\n",
            "Int64Index: 186850 entries, 0 to 9722\n",
            "Data columns (total 6 columns):\n",
            " #   Column            Non-Null Count   Dtype \n",
            "---  ------            --------------   ----- \n",
            " 0   Order ID          186305 non-null  object\n",
            " 1   Product           186305 non-null  object\n",
            " 2   Quantity Ordered  186305 non-null  object\n",
            " 3   Price Each        186305 non-null  object\n",
            " 4   Order Date        186305 non-null  object\n",
            " 5   Purchase Address  186305 non-null  object\n",
            "dtypes: object(6)\n",
            "memory usage: 10.0+ MB\n"
          ]
        }
      ]
    },
    {
      "cell_type": "markdown",
      "id": "1dc9e38d",
      "metadata": {
        "papermill": {
          "duration": 0.010801,
          "end_time": "2022-07-09T05:18:54.002055",
          "exception": false,
          "start_time": "2022-07-09T05:18:53.991254",
          "status": "completed"
        },
        "tags": [],
        "id": "1dc9e38d"
      },
      "source": [
        "### Clean data"
      ]
    },
    {
      "cell_type": "code",
      "source": [
        "# NaN count for each column\n",
        "all_data.isnull().sum()"
      ],
      "metadata": {
        "colab": {
          "base_uri": "https://localhost:8080/"
        },
        "id": "cJKsSwN_GIMv",
        "outputId": "56bd8134-51e6-4277-9db4-796975c6bf05"
      },
      "id": "cJKsSwN_GIMv",
      "execution_count": null,
      "outputs": [
        {
          "output_type": "execute_result",
          "data": {
            "text/plain": [
              "Order ID            545\n",
              "Product             545\n",
              "Quantity Ordered    545\n",
              "Price Each          545\n",
              "Order Date          545\n",
              "Purchase Address    545\n",
              "dtype: int64"
            ]
          },
          "metadata": {},
          "execution_count": 122
        }
      ]
    },
    {
      "cell_type": "code",
      "execution_count": null,
      "id": "a932739c",
      "metadata": {
        "execution": {
          "iopub.execute_input": "2022-07-09T05:18:54.025807Z",
          "iopub.status.busy": "2022-07-09T05:18:54.025281Z",
          "iopub.status.idle": "2022-07-09T05:18:54.407166Z",
          "shell.execute_reply": "2022-07-09T05:18:54.406165Z"
        },
        "papermill": {
          "duration": 0.396858,
          "end_time": "2022-07-09T05:18:54.409834",
          "exception": false,
          "start_time": "2022-07-09T05:18:54.012976",
          "status": "completed"
        },
        "tags": [],
        "id": "a932739c"
      },
      "outputs": [],
      "source": [
        "all_data = all_data.dropna(subset=['Order ID', 'Product', 'Quantity Ordered', 'Price Each', 'Order Date', 'Purchase Address'])\n",
        "#all_data =all_data.dropna(how=\"all\")\n",
        "all_data = all_data[all_data['Order Date'].str[0:2]!=\"Or\"]\n",
        "\n",
        "all_data['Quantity Ordered'] = all_data['Quantity Ordered'].astype(int)\n",
        "all_data['Price Each'] = all_data['Price Each'].astype(float)"
      ]
    },
    {
      "cell_type": "code",
      "source": [
        "# NaN count for each column\n",
        "all_data.isnull().sum()"
      ],
      "metadata": {
        "colab": {
          "base_uri": "https://localhost:8080/"
        },
        "id": "3ixPcrHBGWyJ",
        "outputId": "6d6b3f60-fda3-4573-88e2-6e7cf6412c30"
      },
      "id": "3ixPcrHBGWyJ",
      "execution_count": null,
      "outputs": [
        {
          "output_type": "execute_result",
          "data": {
            "text/plain": [
              "Order ID            0\n",
              "Product             0\n",
              "Quantity Ordered    0\n",
              "Price Each          0\n",
              "Order Date          0\n",
              "Purchase Address    0\n",
              "dtype: int64"
            ]
          },
          "metadata": {},
          "execution_count": 124
        }
      ]
    },
    {
      "cell_type": "code",
      "source": [
        "# Describe Method\n",
        "all_data.describe()"
      ],
      "metadata": {
        "colab": {
          "base_uri": "https://localhost:8080/",
          "height": 300
        },
        "id": "1Z__As94GfkX",
        "outputId": "2ed4a02c-8248-4892-db03-87e4c5a98f54"
      },
      "id": "1Z__As94GfkX",
      "execution_count": null,
      "outputs": [
        {
          "output_type": "execute_result",
          "data": {
            "text/plain": [
              "       Quantity Ordered     Price Each\n",
              "count     185950.000000  185950.000000\n",
              "mean           1.124383     184.399735\n",
              "std            0.442793     332.731330\n",
              "min            1.000000       2.990000\n",
              "25%            1.000000      11.950000\n",
              "50%            1.000000      14.950000\n",
              "75%            1.000000     150.000000\n",
              "max            9.000000    1700.000000"
            ],
            "text/html": [
              "\n",
              "  <div id=\"df-6c98bd87-1616-452e-a273-18ba2e5b4730\">\n",
              "    <div class=\"colab-df-container\">\n",
              "      <div>\n",
              "<style scoped>\n",
              "    .dataframe tbody tr th:only-of-type {\n",
              "        vertical-align: middle;\n",
              "    }\n",
              "\n",
              "    .dataframe tbody tr th {\n",
              "        vertical-align: top;\n",
              "    }\n",
              "\n",
              "    .dataframe thead th {\n",
              "        text-align: right;\n",
              "    }\n",
              "</style>\n",
              "<table border=\"1\" class=\"dataframe\">\n",
              "  <thead>\n",
              "    <tr style=\"text-align: right;\">\n",
              "      <th></th>\n",
              "      <th>Quantity Ordered</th>\n",
              "      <th>Price Each</th>\n",
              "    </tr>\n",
              "  </thead>\n",
              "  <tbody>\n",
              "    <tr>\n",
              "      <th>count</th>\n",
              "      <td>185950.000000</td>\n",
              "      <td>185950.000000</td>\n",
              "    </tr>\n",
              "    <tr>\n",
              "      <th>mean</th>\n",
              "      <td>1.124383</td>\n",
              "      <td>184.399735</td>\n",
              "    </tr>\n",
              "    <tr>\n",
              "      <th>std</th>\n",
              "      <td>0.442793</td>\n",
              "      <td>332.731330</td>\n",
              "    </tr>\n",
              "    <tr>\n",
              "      <th>min</th>\n",
              "      <td>1.000000</td>\n",
              "      <td>2.990000</td>\n",
              "    </tr>\n",
              "    <tr>\n",
              "      <th>25%</th>\n",
              "      <td>1.000000</td>\n",
              "      <td>11.950000</td>\n",
              "    </tr>\n",
              "    <tr>\n",
              "      <th>50%</th>\n",
              "      <td>1.000000</td>\n",
              "      <td>14.950000</td>\n",
              "    </tr>\n",
              "    <tr>\n",
              "      <th>75%</th>\n",
              "      <td>1.000000</td>\n",
              "      <td>150.000000</td>\n",
              "    </tr>\n",
              "    <tr>\n",
              "      <th>max</th>\n",
              "      <td>9.000000</td>\n",
              "      <td>1700.000000</td>\n",
              "    </tr>\n",
              "  </tbody>\n",
              "</table>\n",
              "</div>\n",
              "      <button class=\"colab-df-convert\" onclick=\"convertToInteractive('df-6c98bd87-1616-452e-a273-18ba2e5b4730')\"\n",
              "              title=\"Convert this dataframe to an interactive table.\"\n",
              "              style=\"display:none;\">\n",
              "        \n",
              "  <svg xmlns=\"http://www.w3.org/2000/svg\" height=\"24px\"viewBox=\"0 0 24 24\"\n",
              "       width=\"24px\">\n",
              "    <path d=\"M0 0h24v24H0V0z\" fill=\"none\"/>\n",
              "    <path d=\"M18.56 5.44l.94 2.06.94-2.06 2.06-.94-2.06-.94-.94-2.06-.94 2.06-2.06.94zm-11 1L8.5 8.5l.94-2.06 2.06-.94-2.06-.94L8.5 2.5l-.94 2.06-2.06.94zm10 10l.94 2.06.94-2.06 2.06-.94-2.06-.94-.94-2.06-.94 2.06-2.06.94z\"/><path d=\"M17.41 7.96l-1.37-1.37c-.4-.4-.92-.59-1.43-.59-.52 0-1.04.2-1.43.59L10.3 9.45l-7.72 7.72c-.78.78-.78 2.05 0 2.83L4 21.41c.39.39.9.59 1.41.59.51 0 1.02-.2 1.41-.59l7.78-7.78 2.81-2.81c.8-.78.8-2.07 0-2.86zM5.41 20L4 18.59l7.72-7.72 1.47 1.35L5.41 20z\"/>\n",
              "  </svg>\n",
              "      </button>\n",
              "      \n",
              "  <style>\n",
              "    .colab-df-container {\n",
              "      display:flex;\n",
              "      flex-wrap:wrap;\n",
              "      gap: 12px;\n",
              "    }\n",
              "\n",
              "    .colab-df-convert {\n",
              "      background-color: #E8F0FE;\n",
              "      border: none;\n",
              "      border-radius: 50%;\n",
              "      cursor: pointer;\n",
              "      display: none;\n",
              "      fill: #1967D2;\n",
              "      height: 32px;\n",
              "      padding: 0 0 0 0;\n",
              "      width: 32px;\n",
              "    }\n",
              "\n",
              "    .colab-df-convert:hover {\n",
              "      background-color: #E2EBFA;\n",
              "      box-shadow: 0px 1px 2px rgba(60, 64, 67, 0.3), 0px 1px 3px 1px rgba(60, 64, 67, 0.15);\n",
              "      fill: #174EA6;\n",
              "    }\n",
              "\n",
              "    [theme=dark] .colab-df-convert {\n",
              "      background-color: #3B4455;\n",
              "      fill: #D2E3FC;\n",
              "    }\n",
              "\n",
              "    [theme=dark] .colab-df-convert:hover {\n",
              "      background-color: #434B5C;\n",
              "      box-shadow: 0px 1px 3px 1px rgba(0, 0, 0, 0.15);\n",
              "      filter: drop-shadow(0px 1px 2px rgba(0, 0, 0, 0.3));\n",
              "      fill: #FFFFFF;\n",
              "    }\n",
              "  </style>\n",
              "\n",
              "      <script>\n",
              "        const buttonEl =\n",
              "          document.querySelector('#df-6c98bd87-1616-452e-a273-18ba2e5b4730 button.colab-df-convert');\n",
              "        buttonEl.style.display =\n",
              "          google.colab.kernel.accessAllowed ? 'block' : 'none';\n",
              "\n",
              "        async function convertToInteractive(key) {\n",
              "          const element = document.querySelector('#df-6c98bd87-1616-452e-a273-18ba2e5b4730');\n",
              "          const dataTable =\n",
              "            await google.colab.kernel.invokeFunction('convertToInteractive',\n",
              "                                                     [key], {});\n",
              "          if (!dataTable) return;\n",
              "\n",
              "          const docLinkHtml = 'Like what you see? Visit the ' +\n",
              "            '<a target=\"_blank\" href=https://colab.research.google.com/notebooks/data_table.ipynb>data table notebook</a>'\n",
              "            + ' to learn more about interactive tables.';\n",
              "          element.innerHTML = '';\n",
              "          dataTable['output_type'] = 'display_data';\n",
              "          await google.colab.output.renderOutput(dataTable, element);\n",
              "          const docLink = document.createElement('div');\n",
              "          docLink.innerHTML = docLinkHtml;\n",
              "          element.appendChild(docLink);\n",
              "        }\n",
              "      </script>\n",
              "    </div>\n",
              "  </div>\n",
              "  "
            ]
          },
          "metadata": {},
          "execution_count": 127
        }
      ]
    },
    {
      "cell_type": "code",
      "execution_count": null,
      "id": "978d71b9",
      "metadata": {
        "execution": {
          "iopub.execute_input": "2022-07-09T05:18:54.453802Z",
          "iopub.status.busy": "2022-07-09T05:18:54.453229Z",
          "iopub.status.idle": "2022-07-09T05:18:54.602004Z",
          "shell.execute_reply": "2022-07-09T05:18:54.600864Z"
        },
        "papermill": {
          "duration": 0.163037,
          "end_time": "2022-07-09T05:18:54.604551",
          "exception": false,
          "start_time": "2022-07-09T05:18:54.441514",
          "status": "completed"
        },
        "tags": [],
        "colab": {
          "base_uri": "https://localhost:8080/",
          "height": 206
        },
        "id": "978d71b9",
        "outputId": "767c0dff-5e7f-4d66-c4a1-841074e7e332"
      },
      "outputs": [
        {
          "output_type": "execute_result",
          "data": {
            "text/plain": [
              "  Order ID                   Product  Quantity Ordered  Price Each  \\\n",
              "0   150502                    iPhone                 1      700.00   \n",
              "1   150503     AA Batteries (4-pack)                 1        3.84   \n",
              "2   150504    27in 4K Gaming Monitor                 1      389.99   \n",
              "3   150505  Lightning Charging Cable                 1       14.95   \n",
              "4   150506     AA Batteries (4-pack)                 2        3.84   \n",
              "\n",
              "       Order Date                     Purchase Address  Months  \n",
              "0  02/18/19 01:35    866 Spruce St, Portland, ME 04101       2  \n",
              "1  02/13/19 07:24  18 13th St, San Francisco, CA 94016       2  \n",
              "2  02/18/19 09:46   52 6th St, New York City, NY 10001       2  \n",
              "3  02/02/19 16:47     129 Cherry St, Atlanta, GA 30301       2  \n",
              "4  02/28/19 20:32    548 Lincoln St, Seattle, WA 98101       2  "
            ],
            "text/html": [
              "\n",
              "  <div id=\"df-64db757a-da15-472a-aacd-037f2e230d5b\">\n",
              "    <div class=\"colab-df-container\">\n",
              "      <div>\n",
              "<style scoped>\n",
              "    .dataframe tbody tr th:only-of-type {\n",
              "        vertical-align: middle;\n",
              "    }\n",
              "\n",
              "    .dataframe tbody tr th {\n",
              "        vertical-align: top;\n",
              "    }\n",
              "\n",
              "    .dataframe thead th {\n",
              "        text-align: right;\n",
              "    }\n",
              "</style>\n",
              "<table border=\"1\" class=\"dataframe\">\n",
              "  <thead>\n",
              "    <tr style=\"text-align: right;\">\n",
              "      <th></th>\n",
              "      <th>Order ID</th>\n",
              "      <th>Product</th>\n",
              "      <th>Quantity Ordered</th>\n",
              "      <th>Price Each</th>\n",
              "      <th>Order Date</th>\n",
              "      <th>Purchase Address</th>\n",
              "      <th>Months</th>\n",
              "    </tr>\n",
              "  </thead>\n",
              "  <tbody>\n",
              "    <tr>\n",
              "      <th>0</th>\n",
              "      <td>150502</td>\n",
              "      <td>iPhone</td>\n",
              "      <td>1</td>\n",
              "      <td>700.00</td>\n",
              "      <td>02/18/19 01:35</td>\n",
              "      <td>866 Spruce St, Portland, ME 04101</td>\n",
              "      <td>2</td>\n",
              "    </tr>\n",
              "    <tr>\n",
              "      <th>1</th>\n",
              "      <td>150503</td>\n",
              "      <td>AA Batteries (4-pack)</td>\n",
              "      <td>1</td>\n",
              "      <td>3.84</td>\n",
              "      <td>02/13/19 07:24</td>\n",
              "      <td>18 13th St, San Francisco, CA 94016</td>\n",
              "      <td>2</td>\n",
              "    </tr>\n",
              "    <tr>\n",
              "      <th>2</th>\n",
              "      <td>150504</td>\n",
              "      <td>27in 4K Gaming Monitor</td>\n",
              "      <td>1</td>\n",
              "      <td>389.99</td>\n",
              "      <td>02/18/19 09:46</td>\n",
              "      <td>52 6th St, New York City, NY 10001</td>\n",
              "      <td>2</td>\n",
              "    </tr>\n",
              "    <tr>\n",
              "      <th>3</th>\n",
              "      <td>150505</td>\n",
              "      <td>Lightning Charging Cable</td>\n",
              "      <td>1</td>\n",
              "      <td>14.95</td>\n",
              "      <td>02/02/19 16:47</td>\n",
              "      <td>129 Cherry St, Atlanta, GA 30301</td>\n",
              "      <td>2</td>\n",
              "    </tr>\n",
              "    <tr>\n",
              "      <th>4</th>\n",
              "      <td>150506</td>\n",
              "      <td>AA Batteries (4-pack)</td>\n",
              "      <td>2</td>\n",
              "      <td>3.84</td>\n",
              "      <td>02/28/19 20:32</td>\n",
              "      <td>548 Lincoln St, Seattle, WA 98101</td>\n",
              "      <td>2</td>\n",
              "    </tr>\n",
              "  </tbody>\n",
              "</table>\n",
              "</div>\n",
              "      <button class=\"colab-df-convert\" onclick=\"convertToInteractive('df-64db757a-da15-472a-aacd-037f2e230d5b')\"\n",
              "              title=\"Convert this dataframe to an interactive table.\"\n",
              "              style=\"display:none;\">\n",
              "        \n",
              "  <svg xmlns=\"http://www.w3.org/2000/svg\" height=\"24px\"viewBox=\"0 0 24 24\"\n",
              "       width=\"24px\">\n",
              "    <path d=\"M0 0h24v24H0V0z\" fill=\"none\"/>\n",
              "    <path d=\"M18.56 5.44l.94 2.06.94-2.06 2.06-.94-2.06-.94-.94-2.06-.94 2.06-2.06.94zm-11 1L8.5 8.5l.94-2.06 2.06-.94-2.06-.94L8.5 2.5l-.94 2.06-2.06.94zm10 10l.94 2.06.94-2.06 2.06-.94-2.06-.94-.94-2.06-.94 2.06-2.06.94z\"/><path d=\"M17.41 7.96l-1.37-1.37c-.4-.4-.92-.59-1.43-.59-.52 0-1.04.2-1.43.59L10.3 9.45l-7.72 7.72c-.78.78-.78 2.05 0 2.83L4 21.41c.39.39.9.59 1.41.59.51 0 1.02-.2 1.41-.59l7.78-7.78 2.81-2.81c.8-.78.8-2.07 0-2.86zM5.41 20L4 18.59l7.72-7.72 1.47 1.35L5.41 20z\"/>\n",
              "  </svg>\n",
              "      </button>\n",
              "      \n",
              "  <style>\n",
              "    .colab-df-container {\n",
              "      display:flex;\n",
              "      flex-wrap:wrap;\n",
              "      gap: 12px;\n",
              "    }\n",
              "\n",
              "    .colab-df-convert {\n",
              "      background-color: #E8F0FE;\n",
              "      border: none;\n",
              "      border-radius: 50%;\n",
              "      cursor: pointer;\n",
              "      display: none;\n",
              "      fill: #1967D2;\n",
              "      height: 32px;\n",
              "      padding: 0 0 0 0;\n",
              "      width: 32px;\n",
              "    }\n",
              "\n",
              "    .colab-df-convert:hover {\n",
              "      background-color: #E2EBFA;\n",
              "      box-shadow: 0px 1px 2px rgba(60, 64, 67, 0.3), 0px 1px 3px 1px rgba(60, 64, 67, 0.15);\n",
              "      fill: #174EA6;\n",
              "    }\n",
              "\n",
              "    [theme=dark] .colab-df-convert {\n",
              "      background-color: #3B4455;\n",
              "      fill: #D2E3FC;\n",
              "    }\n",
              "\n",
              "    [theme=dark] .colab-df-convert:hover {\n",
              "      background-color: #434B5C;\n",
              "      box-shadow: 0px 1px 3px 1px rgba(0, 0, 0, 0.15);\n",
              "      filter: drop-shadow(0px 1px 2px rgba(0, 0, 0, 0.3));\n",
              "      fill: #FFFFFF;\n",
              "    }\n",
              "  </style>\n",
              "\n",
              "      <script>\n",
              "        const buttonEl =\n",
              "          document.querySelector('#df-64db757a-da15-472a-aacd-037f2e230d5b button.colab-df-convert');\n",
              "        buttonEl.style.display =\n",
              "          google.colab.kernel.accessAllowed ? 'block' : 'none';\n",
              "\n",
              "        async function convertToInteractive(key) {\n",
              "          const element = document.querySelector('#df-64db757a-da15-472a-aacd-037f2e230d5b');\n",
              "          const dataTable =\n",
              "            await google.colab.kernel.invokeFunction('convertToInteractive',\n",
              "                                                     [key], {});\n",
              "          if (!dataTable) return;\n",
              "\n",
              "          const docLinkHtml = 'Like what you see? Visit the ' +\n",
              "            '<a target=\"_blank\" href=https://colab.research.google.com/notebooks/data_table.ipynb>data table notebook</a>'\n",
              "            + ' to learn more about interactive tables.';\n",
              "          element.innerHTML = '';\n",
              "          dataTable['output_type'] = 'display_data';\n",
              "          await google.colab.output.renderOutput(dataTable, element);\n",
              "          const docLink = document.createElement('div');\n",
              "          docLink.innerHTML = docLinkHtml;\n",
              "          element.appendChild(docLink);\n",
              "        }\n",
              "      </script>\n",
              "    </div>\n",
              "  </div>\n",
              "  "
            ]
          },
          "metadata": {},
          "execution_count": 128
        }
      ],
      "source": [
        "# Adding Month Column\n",
        "all_data['Months'] = all_data['Order Date'].str[0:2]\n",
        "all_data['Months']  = all_data['Months'].astype(int)\n",
        "all_data.head()"
      ]
    },
    {
      "cell_type": "code",
      "execution_count": null,
      "id": "16d15e7d",
      "metadata": {
        "execution": {
          "iopub.execute_input": "2022-07-09T05:18:54.648090Z",
          "iopub.status.busy": "2022-07-09T05:18:54.647779Z",
          "iopub.status.idle": "2022-07-09T05:18:54.653322Z",
          "shell.execute_reply": "2022-07-09T05:18:54.652417Z"
        },
        "papermill": {
          "duration": 0.019578,
          "end_time": "2022-07-09T05:18:54.655775",
          "exception": false,
          "start_time": "2022-07-09T05:18:54.636197",
          "status": "completed"
        },
        "tags": [],
        "id": "16d15e7d"
      },
      "outputs": [],
      "source": [
        "# Adding a Sales Column\n",
        "all_data['Sales'] = all_data['Quantity Ordered'] * all_data['Price Each']\n",
        "# all_data.head()"
      ]
    },
    {
      "cell_type": "markdown",
      "id": "c4fdb3e2",
      "metadata": {
        "papermill": {
          "duration": 0.011235,
          "end_time": "2022-07-09T05:18:53.134176",
          "exception": false,
          "start_time": "2022-07-09T05:18:53.122941",
          "status": "completed"
        },
        "tags": [],
        "id": "c4fdb3e2"
      },
      "source": [
        "### Exploratory Data Analysis"
      ]
    },
    {
      "cell_type": "markdown",
      "id": "22dfa158",
      "metadata": {
        "papermill": {
          "duration": 0.010496,
          "end_time": "2022-07-09T05:18:53.198458",
          "exception": false,
          "start_time": "2022-07-09T05:18:53.187962",
          "status": "completed"
        },
        "tags": [],
        "id": "22dfa158"
      },
      "source": [
        "### Trying to answer the following questions -\n",
        "* What was the best month for sales? How much was earned that month?\n",
        "* What city sold the most product?\n",
        "* What time should we display advertisements to maximize the likelihood of customers buying products?\n",
        "* What product sold the most? Why do you think it sold the most?"
      ]
    },
    {
      "cell_type": "markdown",
      "id": "374a8bd9",
      "metadata": {
        "papermill": {
          "duration": 0.010274,
          "end_time": "2022-07-09T05:18:54.676882",
          "exception": false,
          "start_time": "2022-07-09T05:18:54.666608",
          "status": "completed"
        },
        "tags": [],
        "id": "374a8bd9"
      },
      "source": [
        "### What was the best month for sales?"
      ]
    },
    {
      "cell_type": "code",
      "execution_count": null,
      "id": "1f02aea5",
      "metadata": {
        "execution": {
          "iopub.execute_input": "2022-07-09T05:18:54.699320Z",
          "iopub.status.busy": "2022-07-09T05:18:54.698987Z",
          "iopub.status.idle": "2022-07-09T05:18:54.910905Z",
          "shell.execute_reply": "2022-07-09T05:18:54.909992Z"
        },
        "papermill": {
          "duration": 0.225817,
          "end_time": "2022-07-09T05:18:54.913083",
          "exception": false,
          "start_time": "2022-07-09T05:18:54.687266",
          "status": "completed"
        },
        "tags": [],
        "colab": {
          "base_uri": "https://localhost:8080/",
          "height": 612
        },
        "id": "1f02aea5",
        "outputId": "372151fa-0679-49b7-9862-f6242fdd4a3d"
      },
      "outputs": [
        {
          "output_type": "stream",
          "name": "stderr",
          "text": [
            "<ipython-input-142-c35c647242a3>:1: FutureWarning: The default value of numeric_only in DataFrameGroupBy.sum is deprecated. In a future version, numeric_only will default to False. Either specify numeric_only or select only columns which should be valid for the function.\n",
            "  q1=all_data.groupby('Months').sum()\n"
          ]
        },
        {
          "output_type": "display_data",
          "data": {
            "text/plain": [
              "<Figure size 1200x600 with 1 Axes>"
            ],
            "image/png": "[encoded data removed]"
          },
          "metadata": {}
        }
      ],
      "source": [
        "q1=all_data.groupby('Months').sum()\n",
        "plt.figure(figsize=(12,6))\n",
        "months= range(1,13)\n",
        "plt.bar(months,q1['Sales'])\n",
        "plt.ylabel('Sales in USD')\n",
        "plt.xlabel('Months')\n",
        "plt.show()"
      ]
    },
    {
      "cell_type": "markdown",
      "id": "a66917e9",
      "metadata": {
        "papermill": {
          "duration": 0.010426,
          "end_time": "2022-07-09T05:18:54.934495",
          "exception": false,
          "start_time": "2022-07-09T05:18:54.924069",
          "status": "completed"
        },
        "tags": [],
        "id": "a66917e9"
      },
      "source": [
        "### December was the best month of sales, followed by October. It makes sense as December is a festive season."
      ]
    },
    {
      "cell_type": "markdown",
      "id": "bf47fe9d",
      "metadata": {
        "papermill": {
          "duration": 0.010408,
          "end_time": "2022-07-09T05:18:54.955394",
          "exception": false,
          "start_time": "2022-07-09T05:18:54.944986",
          "status": "completed"
        },
        "tags": [],
        "id": "bf47fe9d"
      },
      "source": [
        "### What city sold the most product?"
      ]
    },
    {
      "cell_type": "code",
      "execution_count": null,
      "id": "bebace10",
      "metadata": {
        "execution": {
          "iopub.execute_input": "2022-07-09T05:18:54.978324Z",
          "iopub.status.busy": "2022-07-09T05:18:54.977856Z",
          "iopub.status.idle": "2022-07-09T05:18:55.208609Z",
          "shell.execute_reply": "2022-07-09T05:18:55.207588Z"
        },
        "papermill": {
          "duration": 0.244542,
          "end_time": "2022-07-09T05:18:55.210332",
          "exception": false,
          "start_time": "2022-07-09T05:18:54.965790",
          "status": "completed"
        },
        "tags": [],
        "colab": {
          "base_uri": "https://localhost:8080/",
          "height": 206
        },
        "id": "bebace10",
        "outputId": "54e0b3e6-aa55-403c-cb12-1d2e401924b4"
      },
      "outputs": [
        {
          "output_type": "execute_result",
          "data": {
            "text/plain": [
              "  Order ID                   Product  Quantity Ordered  Price Each  \\\n",
              "0   150502                    iPhone                 1      700.00   \n",
              "1   150503     AA Batteries (4-pack)                 1        3.84   \n",
              "2   150504    27in 4K Gaming Monitor                 1      389.99   \n",
              "3   150505  Lightning Charging Cable                 1       14.95   \n",
              "4   150506     AA Batteries (4-pack)                 2        3.84   \n",
              "\n",
              "       Order Date                     Purchase Address  Months   Sales  \\\n",
              "0  02/18/19 01:35    866 Spruce St, Portland, ME 04101       2  700.00   \n",
              "1  02/13/19 07:24  18 13th St, San Francisco, CA 94016       2    3.84   \n",
              "2  02/18/19 09:46   52 6th St, New York City, NY 10001       2  389.99   \n",
              "3  02/02/19 16:47     129 Cherry St, Atlanta, GA 30301       2   14.95   \n",
              "4  02/28/19 20:32    548 Lincoln St, Seattle, WA 98101       2    7.68   \n",
              "\n",
              "                 City  \n",
              "0       Portland (ME)  \n",
              "1  San Francisco (CA)  \n",
              "2  New York City (NY)  \n",
              "3        Atlanta (GA)  \n",
              "4        Seattle (WA)  "
            ],
            "text/html": [
              "\n",
              "  <div id=\"df-698e9f56-4360-46d5-b025-ac4acf9eae31\">\n",
              "    <div class=\"colab-df-container\">\n",
              "      <div>\n",
              "<style scoped>\n",
              "    .dataframe tbody tr th:only-of-type {\n",
              "        vertical-align: middle;\n",
              "    }\n",
              "\n",
              "    .dataframe tbody tr th {\n",
              "        vertical-align: top;\n",
              "    }\n",
              "\n",
              "    .dataframe thead th {\n",
              "        text-align: right;\n",
              "    }\n",
              "</style>\n",
              "<table border=\"1\" class=\"dataframe\">\n",
              "  <thead>\n",
              "    <tr style=\"text-align: right;\">\n",
              "      <th></th>\n",
              "      <th>Order ID</th>\n",
              "      <th>Product</th>\n",
              "      <th>Quantity Ordered</th>\n",
              "      <th>Price Each</th>\n",
              "      <th>Order Date</th>\n",
              "      <th>Purchase Address</th>\n",
              "      <th>Months</th>\n",
              "      <th>Sales</th>\n",
              "      <th>City</th>\n",
              "    </tr>\n",
              "  </thead>\n",
              "  <tbody>\n",
              "    <tr>\n",
              "      <th>0</th>\n",
              "      <td>150502</td>\n",
              "      <td>iPhone</td>\n",
              "      <td>1</td>\n",
              "      <td>700.00</td>\n",
              "      <td>02/18/19 01:35</td>\n",
              "      <td>866 Spruce St, Portland, ME 04101</td>\n",
              "      <td>2</td>\n",
              "      <td>700.00</td>\n",
              "      <td>Portland (ME)</td>\n",
              "    </tr>\n",
              "    <tr>\n",
              "      <th>1</th>\n",
              "      <td>150503</td>\n",
              "      <td>AA Batteries (4-pack)</td>\n",
              "      <td>1</td>\n",
              "      <td>3.84</td>\n",
              "      <td>02/13/19 07:24</td>\n",
              "      <td>18 13th St, San Francisco, CA 94016</td>\n",
              "      <td>2</td>\n",
              "      <td>3.84</td>\n",
              "      <td>San Francisco (CA)</td>\n",
              "    </tr>\n",
              "    <tr>\n",
              "      <th>2</th>\n",
              "      <td>150504</td>\n",
              "      <td>27in 4K Gaming Monitor</td>\n",
              "      <td>1</td>\n",
              "      <td>389.99</td>\n",
              "      <td>02/18/19 09:46</td>\n",
              "      <td>52 6th St, New York City, NY 10001</td>\n",
              "      <td>2</td>\n",
              "      <td>389.99</td>\n",
              "      <td>New York City (NY)</td>\n",
              "    </tr>\n",
              "    <tr>\n",
              "      <th>3</th>\n",
              "      <td>150505</td>\n",
              "      <td>Lightning Charging Cable</td>\n",
              "      <td>1</td>\n",
              "      <td>14.95</td>\n",
              "      <td>02/02/19 16:47</td>\n",
              "      <td>129 Cherry St, Atlanta, GA 30301</td>\n",
              "      <td>2</td>\n",
              "      <td>14.95</td>\n",
              "      <td>Atlanta (GA)</td>\n",
              "    </tr>\n",
              "    <tr>\n",
              "      <th>4</th>\n",
              "      <td>150506</td>\n",
              "      <td>AA Batteries (4-pack)</td>\n",
              "      <td>2</td>\n",
              "      <td>3.84</td>\n",
              "      <td>02/28/19 20:32</td>\n",
              "      <td>548 Lincoln St, Seattle, WA 98101</td>\n",
              "      <td>2</td>\n",
              "      <td>7.68</td>\n",
              "      <td>Seattle (WA)</td>\n",
              "    </tr>\n",
              "  </tbody>\n",
              "</table>\n",
              "</div>\n",
              "      <button class=\"colab-df-convert\" onclick=\"convertToInteractive('df-698e9f56-4360-46d5-b025-ac4acf9eae31')\"\n",
              "              title=\"Convert this dataframe to an interactive table.\"\n",
              "              style=\"display:none;\">\n",
              "        \n",
              "  <svg xmlns=\"http://www.w3.org/2000/svg\" height=\"24px\"viewBox=\"0 0 24 24\"\n",
              "       width=\"24px\">\n",
              "    <path d=\"M0 0h24v24H0V0z\" fill=\"none\"/>\n",
              "    <path d=\"M18.56 5.44l.94 2.06.94-2.06 2.06-.94-2.06-.94-.94-2.06-.94 2.06-2.06.94zm-11 1L8.5 8.5l.94-2.06 2.06-.94-2.06-.94L8.5 2.5l-.94 2.06-2.06.94zm10 10l.94 2.06.94-2.06 2.06-.94-2.06-.94-.94-2.06-.94 2.06-2.06.94z\"/><path d=\"M17.41 7.96l-1.37-1.37c-.4-.4-.92-.59-1.43-.59-.52 0-1.04.2-1.43.59L10.3 9.45l-7.72 7.72c-.78.78-.78 2.05 0 2.83L4 21.41c.39.39.9.59 1.41.59.51 0 1.02-.2 1.41-.59l7.78-7.78 2.81-2.81c.8-.78.8-2.07 0-2.86zM5.41 20L4 18.59l7.72-7.72 1.47 1.35L5.41 20z\"/>\n",
              "  </svg>\n",
              "      </button>\n",
              "      \n",
              "  <style>\n",
              "    .colab-df-container {\n",
              "      display:flex;\n",
              "      flex-wrap:wrap;\n",
              "      gap: 12px;\n",
              "    }\n",
              "\n",
              "    .colab-df-convert {\n",
              "      background-color: #E8F0FE;\n",
              "      border: none;\n",
              "      border-radius: 50%;\n",
              "      cursor: pointer;\n",
              "      display: none;\n",
              "      fill: #1967D2;\n",
              "      height: 32px;\n",
              "      padding: 0 0 0 0;\n",
              "      width: 32px;\n",
              "    }\n",
              "\n",
              "    .colab-df-convert:hover {\n",
              "      background-color: #E2EBFA;\n",
              "      box-shadow: 0px 1px 2px rgba(60, 64, 67, 0.3), 0px 1px 3px 1px rgba(60, 64, 67, 0.15);\n",
              "      fill: #174EA6;\n",
              "    }\n",
              "\n",
              "    [theme=dark] .colab-df-convert {\n",
              "      background-color: #3B4455;\n",
              "      fill: #D2E3FC;\n",
              "    }\n",
              "\n",
              "    [theme=dark] .colab-df-convert:hover {\n",
              "      background-color: #434B5C;\n",
              "      box-shadow: 0px 1px 3px 1px rgba(0, 0, 0, 0.15);\n",
              "      filter: drop-shadow(0px 1px 2px rgba(0, 0, 0, 0.3));\n",
              "      fill: #FFFFFF;\n",
              "    }\n",
              "  </style>\n",
              "\n",
              "      <script>\n",
              "        const buttonEl =\n",
              "          document.querySelector('#df-698e9f56-4360-46d5-b025-ac4acf9eae31 button.colab-df-convert');\n",
              "        buttonEl.style.display =\n",
              "          google.colab.kernel.accessAllowed ? 'block' : 'none';\n",
              "\n",
              "        async function convertToInteractive(key) {\n",
              "          const element = document.querySelector('#df-698e9f56-4360-46d5-b025-ac4acf9eae31');\n",
              "          const dataTable =\n",
              "            await google.colab.kernel.invokeFunction('convertToInteractive',\n",
              "                                                     [key], {});\n",
              "          if (!dataTable) return;\n",
              "\n",
              "          const docLinkHtml = 'Like what you see? Visit the ' +\n",
              "            '<a target=\"_blank\" href=https://colab.research.google.com/notebooks/data_table.ipynb>data table notebook</a>'\n",
              "            + ' to learn more about interactive tables.';\n",
              "          element.innerHTML = '';\n",
              "          dataTable['output_type'] = 'display_data';\n",
              "          await google.colab.output.renderOutput(dataTable, element);\n",
              "          const docLink = document.createElement('div');\n",
              "          docLink.innerHTML = docLinkHtml;\n",
              "          element.appendChild(docLink);\n",
              "        }\n",
              "      </script>\n",
              "    </div>\n",
              "  </div>\n",
              "  "
            ]
          },
          "metadata": {},
          "execution_count": 131
        }
      ],
      "source": [
        "def get_city(address):\n",
        "    return address.split(\",\")[1].strip(\" \")\n",
        "\n",
        "def get_state(address):\n",
        "    return address.split(\",\")[2].split(\" \")[1]\n",
        "\n",
        "all_data['City'] = all_data['Purchase Address'].apply(lambda x: get_city(x) + ' (' + get_state(x) + ')')\n",
        "all_data.head()"
      ]
    },
    {
      "cell_type": "code",
      "execution_count": null,
      "id": "06a4747c",
      "metadata": {
        "execution": {
          "iopub.execute_input": "2022-07-09T05:18:55.226171Z",
          "iopub.status.busy": "2022-07-09T05:18:55.225647Z",
          "iopub.status.idle": "2022-07-09T05:18:55.488910Z",
          "shell.execute_reply": "2022-07-09T05:18:55.488009Z"
        },
        "papermill": {
          "duration": 0.273602,
          "end_time": "2022-07-09T05:18:55.491045",
          "exception": false,
          "start_time": "2022-07-09T05:18:55.217443",
          "status": "completed"
        },
        "tags": [],
        "colab": {
          "base_uri": "https://localhost:8080/",
          "height": 728
        },
        "id": "06a4747c",
        "outputId": "bfe7f8fa-cbbb-4a8f-87ee-df559b7c9b30"
      },
      "outputs": [
        {
          "output_type": "stream",
          "name": "stderr",
          "text": [
            "<ipython-input-143-9430b80b855c>:1: FutureWarning: The default value of numeric_only in DataFrameGroupBy.sum is deprecated. In a future version, numeric_only will default to False. Either specify numeric_only or select only columns which should be valid for the function.\n",
            "  q2=all_data.groupby('City').sum()\n"
          ]
        },
        {
          "output_type": "display_data",
          "data": {
            "text/plain": [
              "<Figure size 1200x600 with 1 Axes>"
            ],
            "image/png": "[encoded data removed]"
          },
          "metadata": {}
        }
      ],
      "source": [
        "q2=all_data.groupby('City').sum()\n",
        "plt.figure(figsize=(12,6))\n",
        "cities = all_data['City'].unique()\n",
        "plt.bar(cities,q2['Sales'])\n",
        "plt.xticks(rotation= 90)\n",
        "plt.ylabel('Sales in USD')\n",
        "plt.xlabel('Cities')\n",
        "plt.show()"
      ]
    },
    {
      "cell_type": "markdown",
      "id": "5f6956f0",
      "metadata": {
        "papermill": {
          "duration": 0.011121,
          "end_time": "2022-07-09T05:18:55.513950",
          "exception": false,
          "start_time": "2022-07-09T05:18:55.502829",
          "status": "completed"
        },
        "tags": [],
        "id": "5f6956f0"
      },
      "source": [
        "### Most products were sold in Boston (MA)"
      ]
    },
    {
      "cell_type": "markdown",
      "id": "acbed5f4",
      "metadata": {
        "papermill": {
          "duration": 0.010952,
          "end_time": "2022-07-09T05:18:55.536423",
          "exception": false,
          "start_time": "2022-07-09T05:18:55.525471",
          "status": "completed"
        },
        "tags": [],
        "id": "acbed5f4"
      },
      "source": [
        "### What time should we display advertisements to maximize the likelihood of customer’s buying product?"
      ]
    },
    {
      "cell_type": "code",
      "execution_count": null,
      "id": "32500efd",
      "metadata": {
        "execution": {
          "iopub.execute_input": "2022-07-09T05:18:55.584189Z",
          "iopub.status.busy": "2022-07-09T05:18:55.582915Z",
          "iopub.status.idle": "2022-07-09T05:19:39.454497Z",
          "shell.execute_reply": "2022-07-09T05:19:39.453628Z"
        },
        "papermill": {
          "duration": 43.897608,
          "end_time": "2022-07-09T05:19:39.468089",
          "exception": false,
          "start_time": "2022-07-09T05:18:55.570481",
          "status": "completed"
        },
        "tags": [],
        "colab": {
          "base_uri": "https://localhost:8080/",
          "height": 354
        },
        "id": "32500efd",
        "outputId": "dfae2b3e-31da-4b6d-9717-cdc6585c15a2"
      },
      "outputs": [
        {
          "output_type": "execute_result",
          "data": {
            "text/plain": [
              "  Order ID                   Product  Quantity Ordered  Price Each  \\\n",
              "0   150502                    iPhone                 1      700.00   \n",
              "1   150503     AA Batteries (4-pack)                 1        3.84   \n",
              "2   150504    27in 4K Gaming Monitor                 1      389.99   \n",
              "3   150505  Lightning Charging Cable                 1       14.95   \n",
              "4   150506     AA Batteries (4-pack)                 2        3.84   \n",
              "\n",
              "       Order Date                     Purchase Address  Months   Sales  \\\n",
              "0  02/18/19 01:35    866 Spruce St, Portland, ME 04101       2  700.00   \n",
              "1  02/13/19 07:24  18 13th St, San Francisco, CA 94016       2    3.84   \n",
              "2  02/18/19 09:46   52 6th St, New York City, NY 10001       2  389.99   \n",
              "3  02/02/19 16:47     129 Cherry St, Atlanta, GA 30301       2   14.95   \n",
              "4  02/28/19 20:32    548 Lincoln St, Seattle, WA 98101       2    7.68   \n",
              "\n",
              "                 City  Hour  Minute  Count  \n",
              "0       Portland (ME)     1      35      1  \n",
              "1  San Francisco (CA)     7      24      1  \n",
              "2  New York City (NY)     9      46      1  \n",
              "3        Atlanta (GA)    16      47      1  \n",
              "4        Seattle (WA)    20      32      1  "
            ],
            "text/html": [
              "\n",
              "  <div id=\"df-015d088f-4895-40bf-8ee5-09763fdb285e\">\n",
              "    <div class=\"colab-df-container\">\n",
              "      <div>\n",
              "<style scoped>\n",
              "    .dataframe tbody tr th:only-of-type {\n",
              "        vertical-align: middle;\n",
              "    }\n",
              "\n",
              "    .dataframe tbody tr th {\n",
              "        vertical-align: top;\n",
              "    }\n",
              "\n",
              "    .dataframe thead th {\n",
              "        text-align: right;\n",
              "    }\n",
              "</style>\n",
              "<table border=\"1\" class=\"dataframe\">\n",
              "  <thead>\n",
              "    <tr style=\"text-align: right;\">\n",
              "      <th></th>\n",
              "      <th>Order ID</th>\n",
              "      <th>Product</th>\n",
              "      <th>Quantity Ordered</th>\n",
              "      <th>Price Each</th>\n",
              "      <th>Order Date</th>\n",
              "      <th>Purchase Address</th>\n",
              "      <th>Months</th>\n",
              "      <th>Sales</th>\n",
              "      <th>City</th>\n",
              "      <th>Hour</th>\n",
              "      <th>Minute</th>\n",
              "      <th>Count</th>\n",
              "    </tr>\n",
              "  </thead>\n",
              "  <tbody>\n",
              "    <tr>\n",
              "      <th>0</th>\n",
              "      <td>150502</td>\n",
              "      <td>iPhone</td>\n",
              "      <td>1</td>\n",
              "      <td>700.00</td>\n",
              "      <td>02/18/19 01:35</td>\n",
              "      <td>866 Spruce St, Portland, ME 04101</td>\n",
              "      <td>2</td>\n",
              "      <td>700.00</td>\n",
              "      <td>Portland (ME)</td>\n",
              "      <td>1</td>\n",
              "      <td>35</td>\n",
              "      <td>1</td>\n",
              "    </tr>\n",
              "    <tr>\n",
              "      <th>1</th>\n",
              "      <td>150503</td>\n",
              "      <td>AA Batteries (4-pack)</td>\n",
              "      <td>1</td>\n",
              "      <td>3.84</td>\n",
              "      <td>02/13/19 07:24</td>\n",
              "      <td>18 13th St, San Francisco, CA 94016</td>\n",
              "      <td>2</td>\n",
              "      <td>3.84</td>\n",
              "      <td>San Francisco (CA)</td>\n",
              "      <td>7</td>\n",
              "      <td>24</td>\n",
              "      <td>1</td>\n",
              "    </tr>\n",
              "    <tr>\n",
              "      <th>2</th>\n",
              "      <td>150504</td>\n",
              "      <td>27in 4K Gaming Monitor</td>\n",
              "      <td>1</td>\n",
              "      <td>389.99</td>\n",
              "      <td>02/18/19 09:46</td>\n",
              "      <td>52 6th St, New York City, NY 10001</td>\n",
              "      <td>2</td>\n",
              "      <td>389.99</td>\n",
              "      <td>New York City (NY)</td>\n",
              "      <td>9</td>\n",
              "      <td>46</td>\n",
              "      <td>1</td>\n",
              "    </tr>\n",
              "    <tr>\n",
              "      <th>3</th>\n",
              "      <td>150505</td>\n",
              "      <td>Lightning Charging Cable</td>\n",
              "      <td>1</td>\n",
              "      <td>14.95</td>\n",
              "      <td>02/02/19 16:47</td>\n",
              "      <td>129 Cherry St, Atlanta, GA 30301</td>\n",
              "      <td>2</td>\n",
              "      <td>14.95</td>\n",
              "      <td>Atlanta (GA)</td>\n",
              "      <td>16</td>\n",
              "      <td>47</td>\n",
              "      <td>1</td>\n",
              "    </tr>\n",
              "    <tr>\n",
              "      <th>4</th>\n",
              "      <td>150506</td>\n",
              "      <td>AA Batteries (4-pack)</td>\n",
              "      <td>2</td>\n",
              "      <td>3.84</td>\n",
              "      <td>02/28/19 20:32</td>\n",
              "      <td>548 Lincoln St, Seattle, WA 98101</td>\n",
              "      <td>2</td>\n",
              "      <td>7.68</td>\n",
              "      <td>Seattle (WA)</td>\n",
              "      <td>20</td>\n",
              "      <td>32</td>\n",
              "      <td>1</td>\n",
              "    </tr>\n",
              "  </tbody>\n",
              "</table>\n",
              "</div>\n",
              "      <button class=\"colab-df-convert\" onclick=\"convertToInteractive('df-015d088f-4895-40bf-8ee5-09763fdb285e')\"\n",
              "              title=\"Convert this dataframe to an interactive table.\"\n",
              "              style=\"display:none;\">\n",
              "        \n",
              "  <svg xmlns=\"http://www.w3.org/2000/svg\" height=\"24px\"viewBox=\"0 0 24 24\"\n",
              "       width=\"24px\">\n",
              "    <path d=\"M0 0h24v24H0V0z\" fill=\"none\"/>\n",
              "    <path d=\"M18.56 5.44l.94 2.06.94-2.06 2.06-.94-2.06-.94-.94-2.06-.94 2.06-2.06.94zm-11 1L8.5 8.5l.94-2.06 2.06-.94-2.06-.94L8.5 2.5l-.94 2.06-2.06.94zm10 10l.94 2.06.94-2.06 2.06-.94-2.06-.94-.94-2.06-.94 2.06-2.06.94z\"/><path d=\"M17.41 7.96l-1.37-1.37c-.4-.4-.92-.59-1.43-.59-.52 0-1.04.2-1.43.59L10.3 9.45l-7.72 7.72c-.78.78-.78 2.05 0 2.83L4 21.41c.39.39.9.59 1.41.59.51 0 1.02-.2 1.41-.59l7.78-7.78 2.81-2.81c.8-.78.8-2.07 0-2.86zM5.41 20L4 18.59l7.72-7.72 1.47 1.35L5.41 20z\"/>\n",
              "  </svg>\n",
              "      </button>\n",
              "      \n",
              "  <style>\n",
              "    .colab-df-container {\n",
              "      display:flex;\n",
              "      flex-wrap:wrap;\n",
              "      gap: 12px;\n",
              "    }\n",
              "\n",
              "    .colab-df-convert {\n",
              "      background-color: #E8F0FE;\n",
              "      border: none;\n",
              "      border-radius: 50%;\n",
              "      cursor: pointer;\n",
              "      display: none;\n",
              "      fill: #1967D2;\n",
              "      height: 32px;\n",
              "      padding: 0 0 0 0;\n",
              "      width: 32px;\n",
              "    }\n",
              "\n",
              "    .colab-df-convert:hover {\n",
              "      background-color: #E2EBFA;\n",
              "      box-shadow: 0px 1px 2px rgba(60, 64, 67, 0.3), 0px 1px 3px 1px rgba(60, 64, 67, 0.15);\n",
              "      fill: #174EA6;\n",
              "    }\n",
              "\n",
              "    [theme=dark] .colab-df-convert {\n",
              "      background-color: #3B4455;\n",
              "      fill: #D2E3FC;\n",
              "    }\n",
              "\n",
              "    [theme=dark] .colab-df-convert:hover {\n",
              "      background-color: #434B5C;\n",
              "      box-shadow: 0px 1px 3px 1px rgba(0, 0, 0, 0.15);\n",
              "      filter: drop-shadow(0px 1px 2px rgba(0, 0, 0, 0.3));\n",
              "      fill: #FFFFFF;\n",
              "    }\n",
              "  </style>\n",
              "\n",
              "      <script>\n",
              "        const buttonEl =\n",
              "          document.querySelector('#df-015d088f-4895-40bf-8ee5-09763fdb285e button.colab-df-convert');\n",
              "        buttonEl.style.display =\n",
              "          google.colab.kernel.accessAllowed ? 'block' : 'none';\n",
              "\n",
              "        async function convertToInteractive(key) {\n",
              "          const element = document.querySelector('#df-015d088f-4895-40bf-8ee5-09763fdb285e');\n",
              "          const dataTable =\n",
              "            await google.colab.kernel.invokeFunction('convertToInteractive',\n",
              "                                                     [key], {});\n",
              "          if (!dataTable) return;\n",
              "\n",
              "          const docLinkHtml = 'Like what you see? Visit the ' +\n",
              "            '<a target=\"_blank\" href=https://colab.research.google.com/notebooks/data_table.ipynb>data table notebook</a>'\n",
              "            + ' to learn more about interactive tables.';\n",
              "          element.innerHTML = '';\n",
              "          dataTable['output_type'] = 'display_data';\n",
              "          await google.colab.output.renderOutput(dataTable, element);\n",
              "          const docLink = document.createElement('div');\n",
              "          docLink.innerHTML = docLinkHtml;\n",
              "          element.appendChild(docLink);\n",
              "        }\n",
              "      </script>\n",
              "    </div>\n",
              "  </div>\n",
              "  "
            ]
          },
          "metadata": {},
          "execution_count": 133
        }
      ],
      "source": [
        "# Add a Columns - Hour\n",
        "all_data['Hour'] = pd.to_datetime(all_data['Order Date']).dt.hour\n",
        "all_data['Minute'] = pd.to_datetime(all_data['Order Date']).dt.minute\n",
        "all_data['Count'] = 1\n",
        "all_data.head()\n",
        "#this step is a bit time consuming(26s)"
      ]
    },
    {
      "cell_type": "code",
      "execution_count": null,
      "id": "f495424e",
      "metadata": {
        "execution": {
          "iopub.execute_input": "2022-07-09T05:19:39.524519Z",
          "iopub.status.busy": "2022-07-09T05:19:39.524056Z",
          "iopub.status.idle": "2022-07-09T05:19:39.853478Z",
          "shell.execute_reply": "2022-07-09T05:19:39.852419Z"
        },
        "papermill": {
          "duration": 0.344324,
          "end_time": "2022-07-09T05:19:39.855668",
          "exception": false,
          "start_time": "2022-07-09T05:19:39.511344",
          "status": "completed"
        },
        "tags": [],
        "colab": {
          "base_uri": "https://localhost:8080/",
          "height": 559
        },
        "id": "f495424e",
        "outputId": "21f36345-4110-41e9-b6e3-5facc2058a1e"
      },
      "outputs": [
        {
          "output_type": "stream",
          "name": "stdout",
          "text": [
            "<class 'pandas.core.frame.DataFrame'>\n"
          ]
        },
        {
          "output_type": "display_data",
          "data": {
            "text/plain": [
              "<Figure size 1200x600 with 1 Axes>"
            ],
            "image/png": "[encoded data removed]"
          },
          "metadata": {}
        }
      ],
      "source": [
        "hours = [hour for hour, df in all_data.groupby('Hour')]\n",
        "plt.figure(figsize=(12,6))\n",
        "plt.plot(hours,all_data.groupby('Hour').count(),marker='o')\n",
        "plt.xlabel('Hour')\n",
        "plt.ylabel('Number of orders')\n",
        "plt.grid()\n",
        "plt.show()"
      ]
    },
    {
      "cell_type": "markdown",
      "id": "e1544c60",
      "metadata": {
        "papermill": {
          "duration": 0.011955,
          "end_time": "2022-07-09T05:19:39.879996",
          "exception": false,
          "start_time": "2022-07-09T05:19:39.868041",
          "status": "completed"
        },
        "tags": [],
        "id": "e1544c60"
      },
      "source": [
        "### The number of orders peaked from 11am-12noon and 18-19pm hence,the ideal time would be to place ads before 11am and 6pm"
      ]
    },
    {
      "cell_type": "markdown",
      "id": "a20bff25",
      "metadata": {
        "papermill": {
          "duration": 0.01368,
          "end_time": "2022-07-09T05:19:41.340173",
          "exception": false,
          "start_time": "2022-07-09T05:19:41.326493",
          "status": "completed"
        },
        "tags": [],
        "id": "a20bff25"
      },
      "source": [
        "### What product sold the most? Why do you think it sold the most?"
      ]
    },
    {
      "cell_type": "code",
      "execution_count": null,
      "id": "465eaa12",
      "metadata": {
        "execution": {
          "iopub.execute_input": "2022-07-09T05:19:41.368421Z",
          "iopub.status.busy": "2022-07-09T05:19:41.368046Z",
          "iopub.status.idle": "2022-07-09T05:19:41.706928Z",
          "shell.execute_reply": "2022-07-09T05:19:41.706014Z"
        },
        "papermill": {
          "duration": 0.355258,
          "end_time": "2022-07-09T05:19:41.709066",
          "exception": false,
          "start_time": "2022-07-09T05:19:41.353808",
          "status": "completed"
        },
        "tags": [],
        "colab": {
          "base_uri": "https://localhost:8080/",
          "height": 752
        },
        "id": "465eaa12",
        "outputId": "6fc5cf4f-11d9-42b0-8643-b5879ca0a9a4"
      },
      "outputs": [
        {
          "output_type": "stream",
          "name": "stderr",
          "text": [
            "<ipython-input-140-7edab8fb43dd>:2: FutureWarning: The default value of numeric_only in DataFrameGroupBy.sum is deprecated. In a future version, numeric_only will default to False. Either specify numeric_only or select only columns which should be valid for the function.\n",
            "  quantity_ordered = product_group.sum()['Quantity Ordered']\n"
          ]
        },
        {
          "output_type": "display_data",
          "data": {
            "text/plain": [
              "<Figure size 1200x600 with 1 Axes>"
            ],
            "image/png": "[encoded data removed]"
          },
          "metadata": {}
        }
      ],
      "source": [
        "product_group = all_data.groupby('Product')\n",
        "quantity_ordered = product_group.sum()['Quantity Ordered']\n",
        "# product_group.sum()\n",
        "products = [product for product, df in product_group]\n",
        "plt.figure(figsize=(12,6))\n",
        "plt.bar(products,quantity_ordered)\n",
        "plt.xticks(products, rotation='vertical',size='8')\n",
        "plt.xlabel('Products')\n",
        "plt.ylabel('Quantity Ordered')\n",
        "plt.show()"
      ]
    },
    {
      "cell_type": "markdown",
      "id": "f75c8bed",
      "metadata": {
        "papermill": {
          "duration": 0.008783,
          "end_time": "2022-07-09T05:19:42.085316",
          "exception": false,
          "start_time": "2022-07-09T05:19:42.076533",
          "status": "completed"
        },
        "tags": [],
        "id": "f75c8bed"
      },
      "source": [
        "### The batteries and charging cables were the most sold, maybe because they were not expensive.\n",
        "### whereas dryer, phones, laptops and washing machine are expensive thus sold less."
      ]
    },
    {
      "cell_type": "markdown",
      "source": [
        "### Conclusion and Next Steps\n",
        "\n",
        "Conclusion:\n",
        "\n",
        "In this workshop, we learned how data visualization and analysis are essential in finding trends and patterns and how it can be used by organizations. Python, with its powerful libraries, enables efficient data manipulation, analysis, and visualization for informed decision making.\n",
        "\n",
        "Next Steps:\n",
        "\n",
        "Practice and Explore: Work with your own datasets or explore public datasets using Python's data manipulation and visualization libraries to gain more hands-on experience.\n",
        "\n",
        "Expand Your Toolkit: Explore additional Python libraries like NumPy, SciPy, and scikit-learn to enhance your data analysis capabilities.\n",
        "\n",
        "Online Resources and Courses: Take advantage of online tutorials and courses on Python and data analysis to deepen your skills. Platforms like DataCamp and Coursera offer comprehensive learning resources.\n",
        "\n",
        "Collaborate and Share: Engage with the Python and data analysis community through forums, meetups, and open-source projects to learn from others and stay updated with the latest trends.\n",
        "\n",
        "Continuing your learning journey and applying these skills in real-world projects will help you become proficient in leveraging Python for data analysis in financial institutions.\n",
        "\n",
        "Thank you for attending the workshop, and best of luck in your future endeavors!"
      ],
      "metadata": {
        "id": "mghaj47987LB"
      },
      "id": "mghaj47987LB"
    }
  ],
  "metadata": {
    "kernelspec": {
      "display_name": "Python 3",
      "language": "python",
      "name": "python3"
    },
    "language_info": {
      "codemirror_mode": {
        "name": "ipython",
        "version": 3
      },
      "file_extension": ".py",
      "mimetype": "text/x-python",
      "name": "python",
      "nbconvert_exporter": "python",
      "pygments_lexer": "ipython3",
      "version": "3.7.12"
    },
    "papermill": {
      "default_parameters": {},
      "duration": 59.178677,
      "end_time": "2022-07-09T05:19:42.950778",
      "environment_variables": {},
      "exception": null,
      "input_path": "__notebook__.ipynb",
      "output_path": "__notebook__.ipynb",
      "parameters": {},
      "start_time": "2022-07-09T05:18:43.772101",
      "version": "2.3.4"
    },
    "colab": {
      "provenance": [],
      "include_colab_link": true
    }
  },
  "nbformat": 4,
  "nbformat_minor": 5
}